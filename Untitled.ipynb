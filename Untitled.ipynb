{
 "cells": [
  {
   "cell_type": "markdown",
   "id": "56527d12",
   "metadata": {},
   "source": [
    "## Code Set 7 "
   ]
  },
  {
   "cell_type": "markdown",
   "id": "4ea0162e",
   "metadata": {},
   "source": [
    "## Problem 1 - alogrithm workbench \n",
    "Write a statement that creates a list with the following strings: 'Einstein', 'Newton', 'Copernicus', and 'Kepler'.  "
   ]
  },
  {
   "cell_type": "code",
   "execution_count": 4,
   "id": "5663b1e8",
   "metadata": {},
   "outputs": [
    {
     "name": "stdout",
     "output_type": "stream",
     "text": [
      "['Einstein', 'Newton', 'Cornelius', 'Kepler']\n"
     ]
    }
   ],
   "source": [
    "#Start by main function\n",
    "def main():\n",
    "    #In order to create list, I set it equal to 'list' to name it, then use [] and fill in info needed in it\n",
    "    list = ['Einstein', 'Newton', 'Cornelius', 'Kepler']\n",
    "#Now going to use print function to print 'list' and it will display the names \n",
    "    print(list)\n",
    "#Have to call function\n",
    "if __name__ == '__main__':\n",
    "    main()"
   ]
  },
  {
   "cell_type": "markdown",
   "id": "3cde84ee",
   "metadata": {},
   "source": [
    "## Problem 2 \n",
    "Assume names references a list. Write a for loop that displays each element of the list."
   ]
  },
  {
   "cell_type": "code",
   "execution_count": 5,
   "id": "03b6ba9e",
   "metadata": {},
   "outputs": [
    {
     "name": "stdout",
     "output_type": "stream",
     "text": [
      "Alyssa\n",
      "Hayden\n",
      "Ayla\n",
      "Jolie\n",
      "Cullen\n",
      "Easton\n"
     ]
    }
   ],
   "source": [
    "#Main function\n",
    "def main():\n",
    "    #List is named \"names\" so set it equal to that \n",
    "    #Setting it equal to a few random names \n",
    "    names = ['Alyssa', 'Hayden', 'Ayla', 'Jolie', 'Cullen', 'Easton']\n",
    "    #Time to iterate the names in a for loop \n",
    "    for name in names:\n",
    "#Print function to print each name \n",
    "        print(name)\n",
    "    \n",
    "#Call function\n",
    "if __name__ == '__main__':\n",
    "    main()"
   ]
  },
  {
   "cell_type": "markdown",
   "id": "733e9276",
   "metadata": {},
   "source": [
    "## Problem 1- Total Sales \n",
    "Design a program that asks the user to enter a store’s sales for each day of the week. The amounts should be stored in a list. Use a loop to calculate the total sales for the week and display the result."
   ]
  },
  {
   "cell_type": "code",
   "execution_count": 6,
   "id": "4c3b9827",
   "metadata": {},
   "outputs": [
    {
     "ename": "SyntaxError",
     "evalue": "incomplete input (3899440606.py, line 2)",
     "output_type": "error",
     "traceback": [
      "\u001b[0;36m  Cell \u001b[0;32mIn[6], line 2\u001b[0;36m\u001b[0m\n\u001b[0;31m    def main():\u001b[0m\n\u001b[0m               ^\u001b[0m\n\u001b[0;31mSyntaxError\u001b[0m\u001b[0;31m:\u001b[0m incomplete input\n"
     ]
    }
   ],
   "source": [
    "#Main function\n",
    "def main():\n",
    "#MAde a list of all the days in the week that will be used \n",
    "    days = ['Sunday', 'Monday', 'Tuesday', 'Wednesday', 'Thursday', 'Friday', 'Saturday', 'Sunday']\n",
    "    sales = []\n",
    "#Need to ask how many sales on each day \n",
    "    for day in days: \n",
    "    #Using float and input so they can type in the sales made each day\n",
    "        sale = float(input('Enter the sales for {}: '.format(day)))\n",
    "    #That will make it display the day that it is \n",
    "        sales.append(sale)\n",
    "    #the append will allow it to add the sales to the list\n",
    "    "
   ]
  },
  {
   "cell_type": "code",
   "execution_count": null,
   "id": "73acc671",
   "metadata": {},
   "outputs": [],
   "source": []
  }
 ],
 "metadata": {
  "kernelspec": {
   "display_name": "Python 3 (ipykernel)",
   "language": "python",
   "name": "python3"
  },
  "language_info": {
   "codemirror_mode": {
    "name": "ipython",
    "version": 3
   },
   "file_extension": ".py",
   "mimetype": "text/x-python",
   "name": "python",
   "nbconvert_exporter": "python",
   "pygments_lexer": "ipython3",
   "version": "3.10.9"
  }
 },
 "nbformat": 4,
 "nbformat_minor": 5
}
