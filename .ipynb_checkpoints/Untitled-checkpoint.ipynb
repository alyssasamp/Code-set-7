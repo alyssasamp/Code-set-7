{
 "cells": [
  {
   "cell_type": "markdown",
   "id": "56527d12",
   "metadata": {},
   "source": [
    "## Code Set 7 "
   ]
  },
  {
   "cell_type": "markdown",
   "id": "de416bb6",
   "metadata": {},
   "source": [
    "## Problem 1 - alogrithm workbench \n",
    "Write a statement that creates a list with the following strings: 'Einstein', 'Newton', 'Copernicus', and 'Kepler'.  "
   ]
  },
  {
   "cell_type": "code",
   "execution_count": 4,
   "id": "5663b1e8",
   "metadata": {},
   "outputs": [
    {
     "name": "stdout",
     "output_type": "stream",
     "text": [
      "['Einstein', 'Newton', 'Cornelius', 'Kepler']\n"
     ]
    }
   ],
   "source": [
    "#Start by main function\n",
    "def main():\n",
    "    #In order to create list, I set it equal to 'list' to name it, then use [] and fill in info needed in it\n",
    "    list = ['Einstein', 'Newton', 'Cornelius', 'Kepler']\n",
    "#Now going to use print function to print 'list' and it will display the names \n",
    "    print(list)\n",
    "#Have to call function\n",
    "if __name__ == '__main__':\n",
    "    main()"
   ]
  },
  {
   "cell_type": "markdown",
   "id": "0bb83bb5",
   "metadata": {},
   "source": [
    "## Problem 2 \n",
    "Assume names references a list. Write a for loop that displays each element of the list."
   ]
  },
  {
   "cell_type": "code",
   "execution_count": 5,
   "id": "03b6ba9e",
   "metadata": {},
   "outputs": [
    {
     "name": "stdout",
     "output_type": "stream",
     "text": [
      "Alyssa\n",
      "Hayden\n",
      "Ayla\n",
      "Jolie\n",
      "Cullen\n",
      "Easton\n"
     ]
    }
   ],
   "source": [
    "#Main function\n",
    "def main():\n",
    "    #List is named \"names\" so set it equal to that \n",
    "    #Setting it equal to a few random names \n",
    "    names = ['Alyssa', 'Hayden', 'Ayla', 'Jolie', 'Cullen', 'Easton']\n",
    "    #Time to iterate the names in a for loop \n",
    "    for name in names:\n",
    "#Print function to print each name \n",
    "        print(name)\n",
    "    \n",
    "#Call function\n",
    "if __name__ == '__main__':\n",
    "    main()"
   ]
  },
  {
   "cell_type": "markdown",
   "id": "2a8f61fd",
   "metadata": {},
   "source": [
    "## Problem 1- Total Sales \n",
    "Design a program that asks the user to enter a store’s sales for each day of the week. The amounts should be stored in a list. Use a loop to calculate the total sales for the week and display the result."
   ]
  },
  {
   "cell_type": "code",
   "execution_count": 7,
   "id": "88d0de07",
   "metadata": {},
   "outputs": [
    {
     "name": "stdout",
     "output_type": "stream",
     "text": [
      "Enter the sales for Sunday: 100\n",
      "Enter the sales for Monday: 235\n",
      "Enter the sales for Tuesday: 465\n",
      "Enter the sales for Wednesday: 316\n",
      "Enter the sales for Thursday: 211\n",
      "Enter the sales for Friday: 311\n",
      "Enter the sales for Saturday: 267\n",
      "Enter the sales for Sunday: 384\n",
      "\n",
      "Total sales of the week: $2,289.00\n"
     ]
    }
   ],
   "source": [
    "#Main function\n",
    "def main():\n",
    "#MAde a list of all the days in the week that will be used \n",
    "    days = ['Sunday', 'Monday', 'Tuesday', 'Wednesday', 'Thursday', 'Friday', 'Saturday', 'Sunday']\n",
    "    sales = []\n",
    "#Need to ask how many sales on each day \n",
    "    for day in days: \n",
    "    #Using float and input so they can type in the sales made each day\n",
    "        sale = float(input('Enter the sales for {}: '.format(day)))\n",
    "    #That will make it display the day that it is \n",
    "        sales.append(sale)\n",
    "    #the append will allow it to add the sales to the list\n",
    "    #Set inital to 0\n",
    "    total = 0\n",
    "#Creating a for loop to iterate it \n",
    "    for amount in sales:\n",
    "        total += amount\n",
    "#Using print function to display it\n",
    "    print(\"\\nTotal sales of the week: ${:,.2f}\".format(total))\n",
    "    #That ending takes what we named 'total' which was 'total+=amount'\n",
    "#Call function to finish \n",
    "if __name__ == '__main__':\n",
    "    main()"
   ]
  },
  {
   "cell_type": "markdown",
   "id": "8c0a1e86",
   "metadata": {},
   "source": [
    "## Problem 14 \n",
    "Create a text file that contains your expenses for last month in the following categories:  RentGasFoodClothingCar paymentMiscWrite a Python program that reads the data from the file and uses matplotlib to plot a pie chart showing how you spend your money."
   ]
  },
  {
   "cell_type": "code",
   "execution_count": 18,
   "id": "61b786a0",
   "metadata": {},
   "outputs": [
    {
     "data": {
      "image/png": "[encoded data removed]",
      "text/plain": [
       "<Figure size 640x480 with 1 Axes>"
      ]
     },
     "metadata": {},
     "output_type": "display_data"
    }
   ],
   "source": [
    "#THis shows a pie chart \n",
    "import matplotlib.pyplot as plt\n",
    "    #Main function\n",
    "def main():\n",
    "    #list of the expenses from each category \n",
    "    expenses = [1200, 400, 500, 250, 400, 400]\n",
    "    \n",
    "#ADDING ON , adding slice labels/the categories\n",
    "    slice_labels= ['Rent', 'Gas', 'Food', 'Clothing', 'Car payment', 'Misc']\n",
    "    \n",
    "    #this creates a chart from the values\n",
    "    plt.pie(expenses, labels=slice_labels)\n",
    "    \n",
    "    #Making a title \n",
    "    plt.title('Expenses last month')\n",
    "    \n",
    "    #Display pie chart\n",
    "    plt.show()\n",
    "    \n",
    "#Call the function\n",
    "if __name__== '__main__':\n",
    "    main()"
   ]
  },
  {
   "cell_type": "markdown",
   "id": "17ceb605",
   "metadata": {},
   "source": [
    "## Problem 2 -  Lottery Number Generator \n",
    "Design a program that generates a seven-digit lottery number. The program should generate seven random numbers, each in the range of 0 through 9, and assign each number to a list element. (Random numbers were discussed in Chapter 5.) Then write another loop that displays the contents of the list."
   ]
  },
  {
   "cell_type": "code",
   "execution_count": 31,
   "id": "af0e19e1",
   "metadata": {},
   "outputs": [
    {
     "name": "stdout",
     "output_type": "stream",
     "text": [
      "Your lottery numbers are: \n",
      "2050835\n",
      "2,0,5,0,8,3,5"
     ]
    }
   ],
   "source": [
    "#Main function\n",
    " \n",
    "import random\n",
    "def main(): \n",
    " \n",
    "    numbers = [0]*7 \n",
    "        \n",
    "    for index in range(7):    \n",
    "        numbers[index]=random.randint(0,9)\n",
    "        \n",
    "    \n",
    "    print('Your lottery numbers are: ')\n",
    "    for index in range (7):\n",
    "        print(numbers[index],end='')\n",
    "        \n",
    "        \n",
    "    print()\n",
    "    \n",
    "    #Prints number \n",
    "    print(numbers[0],end='')\n",
    "    \n",
    "    for index in range(1,7):\n",
    "        print(','+str(numbers[index]),end='')\n",
    "        \n",
    "    #Call function\n",
    "if __name__=='__main__':\n",
    "    main()"
   ]
  },
  {
   "cell_type": "code",
   "execution_count": null,
   "id": "6166b325",
   "metadata": {},
   "outputs": [],
   "source": []
  }
 ],
 "metadata": {
  "kernelspec": {
   "display_name": "Python 3 (ipykernel)",
   "language": "python",
   "name": "python3"
  },
  "language_info": {
   "codemirror_mode": {
    "name": "ipython",
    "version": 3
   },
   "file_extension": ".py",
   "mimetype": "text/x-python",
   "name": "python",
   "nbconvert_exporter": "python",
   "pygments_lexer": "ipython3",
   "version": "3.10.9"
  }
 },
 "nbformat": 4,
 "nbformat_minor": 5
}
