{
 "cells": [
  {
   "cell_type": "markdown",
   "id": "56527d12",
   "metadata": {},
   "source": [
    "## Code Set 7 "
   ]
  },
  {
   "cell_type": "markdown",
   "id": "8e8dc543",
   "metadata": {},
   "source": [
    "## Problem 1 - alogrithm workbench \n",
    "Write a statement that creates a list with the following strings: 'Einstein', 'Newton', 'Copernicus', and 'Kepler'.  "
   ]
  },
  {
   "cell_type": "code",
   "execution_count": 4,
   "id": "5663b1e8",
   "metadata": {},
   "outputs": [
    {
     "name": "stdout",
     "output_type": "stream",
     "text": [
      "['Einstein', 'Newton', 'Cornelius', 'Kepler']\n"
     ]
    }
   ],
   "source": [
    "#Start by main function\n",
    "def main():\n",
    "    #In order to create list, I set it equal to 'list' to name it, then use [] and fill in info needed in it\n",
    "    list = ['Einstein', 'Newton', 'Cornelius', 'Kepler']\n",
    "#Now going to use print function to print 'list' and it will display the names \n",
    "    print(list)\n",
    "#Have to call function\n",
    "if __name__ == '__main__':\n",
    "    main()"
   ]
  },
  {
   "cell_type": "markdown",
   "id": "7dc8a605",
   "metadata": {},
   "source": [
    "## Problem 2 \n",
    "Assume names references a list. Write a for loop that displays each element of the list."
   ]
  },
  {
   "cell_type": "code",
   "execution_count": 5,
   "id": "03b6ba9e",
   "metadata": {},
   "outputs": [
    {
     "name": "stdout",
     "output_type": "stream",
     "text": [
      "Alyssa\n",
      "Hayden\n",
      "Ayla\n",
      "Jolie\n",
      "Cullen\n",
      "Easton\n"
     ]
    }
   ],
   "source": [
    "#Main function\n",
    "def main():\n",
    "    #List is named \"names\" so set it equal to that \n",
    "    #Setting it equal to a few random names \n",
    "    names = ['Alyssa', 'Hayden', 'Ayla', 'Jolie', 'Cullen', 'Easton']\n",
    "    #Time to iterate the names in a for loop \n",
    "    for name in names:\n",
    "#Print function to print each name \n",
    "        print(name)\n",
    "    \n",
    "#Call function\n",
    "if __name__ == '__main__':\n",
    "    main()"
   ]
  },
  {
   "cell_type": "code",
   "execution_count": null,
   "id": "c1d1522b",
   "metadata": {},
   "outputs": [],
   "source": []
  }
 ],
 "metadata": {
  "kernelspec": {
   "display_name": "Python 3 (ipykernel)",
   "language": "python",
   "name": "python3"
  },
  "language_info": {
   "codemirror_mode": {
    "name": "ipython",
    "version": 3
   },
   "file_extension": ".py",
   "mimetype": "text/x-python",
   "name": "python",
   "nbconvert_exporter": "python",
   "pygments_lexer": "ipython3",
   "version": "3.10.9"
  }
 },
 "nbformat": 4,
 "nbformat_minor": 5
}
