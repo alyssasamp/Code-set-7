{
 "cells": [
  {
   "cell_type": "markdown",
   "id": "56527d12",
   "metadata": {},
   "source": [
    "## Code Set 7 "
   ]
  },
  {
   "cell_type": "markdown",
   "id": "985573eb",
   "metadata": {},
   "source": [
    "## Problem 1 - alogrithm workbench \n",
    "Write a statement that creates a list with the following strings: 'Einstein', 'Newton', 'Copernicus', and 'Kepler'.  "
   ]
  },
  {
   "cell_type": "code",
   "execution_count": 4,
   "id": "5663b1e8",
   "metadata": {},
   "outputs": [
    {
     "name": "stdout",
     "output_type": "stream",
     "text": [
      "['Einstein', 'Newton', 'Cornelius', 'Kepler']\n"
     ]
    }
   ],
   "source": [
    "#Start by main function\n",
    "def main():\n",
    "    #In order to create list, I set it equal to 'list' to name it, then use [] and fill in info needed in it\n",
    "    list = ['Einstein', 'Newton', 'Cornelius', 'Kepler']\n",
    "#Now going to use print function to print 'list' and it will display the names \n",
    "    print(list)\n",
    "#Have to call function\n",
    "if __name__ == '__main__':\n",
    "    main()"
   ]
  },
  {
   "cell_type": "markdown",
   "id": "d3836b7c",
   "metadata": {},
   "source": [
    "## Problem 2 \n",
    "Assume names references a list. Write a for loop that displays each element of the list."
   ]
  },
  {
   "cell_type": "code",
   "execution_count": null,
   "id": "03b6ba9e",
   "metadata": {},
   "outputs": [],
   "source": [
    "#Main function\n",
    "def main():\n",
    "    #List is named \"names\" so set it equal to that \n",
    "    #Setting it equal to a few random names \n",
    "    names = ['Alyssa', 'Hayden', 'Ayla', 'Jolie', 'Cullen', 'Easton']\n",
    "    #Time to iterate the names in a for loop "
   ]
  }
 ],
 "metadata": {
  "kernelspec": {
   "display_name": "Python 3 (ipykernel)",
   "language": "python",
   "name": "python3"
  },
  "language_info": {
   "codemirror_mode": {
    "name": "ipython",
    "version": 3
   },
   "file_extension": ".py",
   "mimetype": "text/x-python",
   "name": "python",
   "nbconvert_exporter": "python",
   "pygments_lexer": "ipython3",
   "version": "3.10.9"
  }
 },
 "nbformat": 4,
 "nbformat_minor": 5
}
